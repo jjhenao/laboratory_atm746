{
 "cells": [
  {
   "cell_type": "markdown",
   "id": "3b824f78-131c-4563-b2fe-baa9a35d8f88",
   "metadata": {
    "editable": true,
    "slideshow": {
     "slide_type": ""
    },
    "tags": []
   },
   "source": [
    "# ATM746 - Laboratory Component\n",
    "\n",
    "## lecture 1: Introduction\n",
    "\n",
    "Today we will go trough the basics of connecting to the HPC, navigating and editing "
   ]
  },
  {
   "cell_type": "markdown",
   "id": "318ce0a0-a3fa-4511-b29d-c0f40f28b23e",
   "metadata": {},
   "source": [
    "## We will use two ways to connect to Derecho\n",
    "\n",
    "- ssh (Secure Shell / Secure Socket Shell)\n",
    "- Jupyter Lab"
   ]
  },
  {
   "attachments": {},
   "cell_type": "markdown",
   "id": "95b3f488-76d3-4f67-a034-8ef6c37ec87d",
   "metadata": {},
   "source": [
    "### 1. SSH connection\n",
    "\n",
    "- open a terminal (Windows: PuTTY, PowerShell, Terminal, or MobaXTerm)\n",
    "-  write the following:"
   ]
  },
  {
   "cell_type": "markdown",
   "id": "750b08d9-184e-4e4b-8bad-f500628b599e",
   "metadata": {
    "editable": true,
    "slideshow": {
     "slide_type": ""
    },
    "tags": []
   },
   "source": [
    "`ssh -X your_user_name@derecho.hpc.ucar.edu`"
   ]
  },
  {
   "cell_type": "markdown",
   "id": "8308b4cd-a263-4121-a32f-c4d1de8e9115",
   "metadata": {},
   "source": [
    "You will see a message like this:\n",
    "\n",
    "```\n",
    "Access to and use of this UCAR computer system is limited....\n",
    "\n",
    "(username@derecho.hpc.ucar.edu) ncar-two-factor: \n",
    "```\n",
    "\n",
    "Enter your password \n",
    "\n",
    "You should get a DUO app notification on your phone.\n",
    "\n",
    "Click \"Approve.\""
   ]
  },
  {
   "attachments": {},
   "cell_type": "markdown",
   "id": "1ba384a5-2f8d-49fc-8d2e-9e1017639e95",
   "metadata": {},
   "source": [
    "If the connection worked you will see on the bottom of your terminal \n",
    "\n",
    "something like this: `jhenao@derecho5:~> ` but with your user name\n",
    "\n",
    "On a Linux system, you typically land in your user’s `home` folder after logging in. This is indicated by the tilda `~` character.\n"
   ]
  },
  {
   "cell_type": "markdown",
   "id": "72ef228a-86ff-4b07-b708-b472098f5231",
   "metadata": {
    "editable": true,
    "slideshow": {
     "slide_type": ""
    },
    "tags": []
   },
   "source": [
    "Let's print our current directory to confirm we are in Derecho:\n",
    "\n",
    "type `pwd` on the terminal\n",
    "\n",
    "you should see something like this"
   ]
  },
  {
   "cell_type": "markdown",
   "id": "a5a43a82-cbd4-46b8-9acf-37735431ebaf",
   "metadata": {},
   "source": [
    "`/glade/u/home/jhenao`"
   ]
  },
  {
   "cell_type": "markdown",
   "id": "f90062f6-4eca-40be-8d2a-d09be402bf44",
   "metadata": {},
   "source": [
    "### 2. Jupyter Hub\n",
    "\n",
    "1. open a web browser (e.g. Chrome or Firefox)\n",
    "2. go to `https://jupyterhub.hpc.ucar.edu/`\n",
    "3. click **production**\n",
    "4. log in with your NCAR username and Duo two-factor authentication\n",
    "5. start a new default server\n",
    "6. select the cluster you want to use\n",
    "7. it should open the web interface\n",
    "\n",
    "https://ncar-hpc-docs.readthedocs.io/en/latest/pbs/job-scripts/"
   ]
  }
 ],
 "metadata": {
  "kernelspec": {
   "display_name": "NPL 2025a",
   "language": "python",
   "name": "npl-2025a"
  },
  "language_info": {
   "codemirror_mode": {
    "name": "ipython",
    "version": 3
   },
   "file_extension": ".py",
   "mimetype": "text/x-python",
   "name": "python",
   "nbconvert_exporter": "python",
   "pygments_lexer": "ipython3",
   "version": "3.12.8"
  }
 },
 "nbformat": 4,
 "nbformat_minor": 5
}

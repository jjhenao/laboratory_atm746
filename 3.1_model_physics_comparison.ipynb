{
 "cells": [
  {
   "cell_type": "markdown",
   "id": "3b824f78-131c-4563-b2fe-baa9a35d8f88",
   "metadata": {
    "editable": true,
    "slideshow": {
     "slide_type": ""
    },
    "tags": []
   },
   "source": [
    "# ATM746 - Laboratory Component\n",
    "\n",
    "## SIMULATIONS - PHYSICS SENSITIVITY\n"
   ]
  },
  {
   "cell_type": "markdown",
   "id": "4f72d429",
   "metadata": {},
   "source": [
    "### MODIFY YOUR NAMELIST.INPUT FILE\n",
    "\n",
    "| Student | Microphysics - MP | Boundary Layer - PBL |  Surface Layer |\n",
    "|---|---|---|---|\n",
    "| Luke Zavala | Thompson | YSU | sf_sfclay_physics = 1 |\n",
    "| Alex Weirauch | Thompson | MYJ | sf_sfclay_physics = 2 |\n",
    "| Bijita Thapa Magar | Thompson |  Boulac  | sf_sfclay_physics = 1 |\n",
    "| Ryan Purciel | Morrison 2-moment | YSU | sf_sfclay_physics = 1 |\n",
    "| Jolene Potter | Morrison 2-moment | MYJ | sf_sfclay_physics = 2 |\n",
    "| Lauren Mcaffee | Morrison 2-moment |  Boulac  | sf_sfclay_physics = 1 |\n",
    "| Tucker Friberg | WSM 6-class | YSU | sf_sfclay_physics = 1 |\n",
    "| Rajan Bhandari | WSM 6-class | MYJ | sf_sfclay_physics = 2 |\n",
    "| Maritza Andicoechea | WSM 6-class |  Boulac  | sf_sfclay_physics = 1 |\n",
    "|  | |  |  |\n",
    "| Juan Henao |  Milbrandt-Yau 2-moment |  Boulac  | sf_sfclay_physics = 1 |\n",
    "| - |  Milbrandt-Yau 2-moment |  YSU  | sf_sfclay_physics = 1 |\n",
    "| - |  Milbrandt-Yau 2-moment |  MYJ  | sf_sfclay_physics = 2 |"
   ]
  },
  {
   "cell_type": "markdown",
   "id": "4652c766",
   "metadata": {},
   "source": []
  }
 ],
 "metadata": {
  "kernelspec": {
   "display_name": "Python (geo_env)",
   "language": "python",
   "name": "myenv"
  },
  "language_info": {
   "codemirror_mode": {
    "name": "ipython",
    "version": 3
   },
   "file_extension": ".py",
   "mimetype": "text/x-python",
   "name": "python",
   "nbconvert_exporter": "python",
   "pygments_lexer": "ipython3",
   "version": "3.12.1"
  }
 },
 "nbformat": 4,
 "nbformat_minor": 5
}
